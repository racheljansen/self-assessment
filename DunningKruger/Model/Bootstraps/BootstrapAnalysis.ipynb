{
 "cells": [
  {
   "cell_type": "code",
   "execution_count": 1,
   "metadata": {},
   "outputs": [],
   "source": [
    "import numpy as np\n",
    "import pandas as pd\n",
    "import matplotlib\n",
    "import matplotlib.pyplot as plt"
   ]
  },
  {
   "cell_type": "code",
   "execution_count": 2,
   "metadata": {},
   "outputs": [],
   "source": [
    "gram = pd.read_csv('./Grammar/Bootstraps/bootstrap_4000_super_alpha0.csv', encoding='utf-8')\n",
    "lsat = pd.read_csv('./LSAT/DKrep/Bootstraps/bootstrap_4000_super_alpha0.csv', encoding='utf-8')"
   ]
  },
  {
   "cell_type": "code",
   "execution_count": 3,
   "metadata": {},
   "outputs": [],
   "source": [
    "n = 1000\n",
    "gram['L0'] = [-n/2 * (1 + np.log(2*np.pi*(s/n))) for s in gram.SSE0]\n",
    "gram['L1'] = [-n/2 * (1 + np.log(2*np.pi*(s/n))) for s in gram.SSE1]\n",
    "\n",
    "lsat['L0'] = [-n/2 * (1 + np.log(2*np.pi*(s/n))) for s in lsat.SSE0]\n",
    "lsat['L1'] = [-n/2 * (1 + np.log(2*np.pi*(s/n))) for s in lsat.SSE1]"
   ]
  },
  {
   "cell_type": "code",
   "execution_count": 4,
   "metadata": {},
   "outputs": [],
   "source": [
    "# lists of summed log likelihoods\n",
    "\n",
    "l0s = []\n",
    "for i in range(len(gram['L0'])):\n",
    "    l0s.append(gram['L0'][i] + lsat['L0'][i])\n",
    "\n",
    "l1s = []\n",
    "for i in range(len(gram['L1'])):\n",
    "    l1s.append(gram['L1'][i] + lsat['L1'][i])"
   ]
  },
  {
   "cell_type": "code",
   "execution_count": 5,
   "metadata": {},
   "outputs": [
    {
     "data": {
      "text/plain": [
       "859"
      ]
     },
     "execution_count": 5,
     "metadata": {},
     "output_type": "execute_result"
    }
   ],
   "source": [
    "# calculate additive lr tests and see how many are above threshold\n",
    "\n",
    "lrs = []\n",
    "for i in range(len(l1s)):\n",
    "    lrs.append(2*(l1s[i] - l0s[i]))\n",
    "\n",
    "    \n",
    "above_thresh = 0\n",
    "for lr in lrs:\n",
    "    if lr > 3.84:\n",
    "        above_thresh += 1\n",
    "above_thresh"
   ]
  },
  {
   "cell_type": "code",
   "execution_count": 3,
   "metadata": {},
   "outputs": [],
   "source": [
    "import matplotlib as mpl\n",
    "plt.style.use('ggplot')\n",
    "mpl.rc('font',family='Times New Roman')\n",
    "\n",
    "tbfont = {'fontname': 'Times New Roman Bold'}\n",
    "tfont = {'fontname':'Times New Roman'}\n",
    "\n",
    "mpl.rc('text', usetex=True)"
   ]
  },
  {
   "cell_type": "code",
   "execution_count": 29,
   "metadata": {},
   "outputs": [
    {
     "data": {
      "image/png": "[encoded data removed]",
      "text/plain": [
       "<matplotlib.figure.Figure at 0x10ceb37f0>"
      ]
     },
     "metadata": {},
     "output_type": "display_data"
    }
   ],
   "source": [
    "fig,ax = plt.subplots()\n",
    "plt.hist(gram.LR,color='b',bins=[0,2,4,6,8,10,12,14,16,18,20,22,24,26,28,30,32,34,36,38,40,42,\n",
    "                                 44,46,48])\n",
    "plt.axvline(x=3.84, color = 'r')\n",
    "plt.title('Histogram of Likelihood Ratio Tests: Grammar')\n",
    "ax.set_xlabel('Likelihood Ratios')\n",
    "ax.set_ylabel('\\# Bootstraps')\n",
    "ax.set_yticks([0,25,50,75,100,125,150])\n",
    "\n",
    "\n",
    "ax.set_facecolor('white')\n",
    "plt.grid(False)\n",
    "plt.show()\n",
    "\n",
    "# fig.savefig('figs/Bootstrap_LRs4000_super_alpha0_gram.eps', dpi=1000)"
   ]
  },
  {
   "cell_type": "code",
   "execution_count": 30,
   "metadata": {},
   "outputs": [
    {
     "data": {
      "image/png": "[encoded data removed]",
      "text/plain": [
       "<matplotlib.figure.Figure at 0x10c4a3f28>"
      ]
     },
     "metadata": {},
     "output_type": "display_data"
    }
   ],
   "source": [
    "fig,ax = plt.subplots()\n",
    "plt.hist(lsat.LR,color='b',bins=[0,2,4,6,8,10,12,14,16,18,20,22,24,26,28,30,32,34,36,38,40,42,\n",
    "                                 44,46,48,50,52,54,56,58,60,62,64,66,68,70])\n",
    "plt.axvline(x=3.84, color = 'r')\n",
    "plt.title('Histogram of Likelihood Ratio Tests: Logic')\n",
    "ax.set_xlabel('Likelihood Ratios')\n",
    "ax.set_ylabel('\\# Bootstraps')\n",
    "ax.set_yticks([0,25,50,75,100,125,150])\n",
    "\n",
    "\n",
    "ax.set_facecolor('white')\n",
    "plt.show()\n",
    "\n",
    "# fig.savefig('figs/Bootstrap_LRs4000_super_alpha0_lsat.eps', dpi=1000)"
   ]
  },
  {
   "cell_type": "code",
   "execution_count": null,
   "metadata": {},
   "outputs": [],
   "source": []
  }
 ],
 "metadata": {
  "kernelspec": {
   "display_name": "Python [Root]",
   "language": "python",
   "name": "Python [Root]"
  },
  "language_info": {
   "codemirror_mode": {
    "name": "ipython",
    "version": 3
   },
   "file_extension": ".py",
   "mimetype": "text/x-python",
   "name": "python",
   "nbconvert_exporter": "python",
   "pygments_lexer": "ipython3",
   "version": "3.5.3"
  }
 },
 "nbformat": 4,
 "nbformat_minor": 2
}
