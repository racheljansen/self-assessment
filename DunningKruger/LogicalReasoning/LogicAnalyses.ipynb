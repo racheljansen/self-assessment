{
 "cells": [
  {
   "cell_type": "code",
   "execution_count": 1,
   "metadata": {},
   "outputs": [],
   "source": [
    "import numpy as np\n",
    "import pandas as pd\n",
    "\n",
    "import matplotlib\n",
    "%matplotlib inline\n",
    "import matplotlib.pyplot as plt\n",
    "import seaborn\n",
    "import datetime\n",
    "from scipy import stats"
   ]
  },
  {
   "cell_type": "code",
   "execution_count": 2,
   "metadata": {},
   "outputs": [],
   "source": [
    "import matplotlib as mpl\n",
    "mpl.rc('font',family='Times New Roman')\n",
    "\n",
    "tbfont = {'fontname': 'Times New Roman Bold'}\n",
    "tfont = {'fontname':'Times New Roman'}\n",
    "\n",
    "mpl.rc('text', usetex=True)"
   ]
  },
  {
   "cell_type": "code",
   "execution_count": 4,
   "metadata": {},
   "outputs": [
    {
     "data": {
      "text/plain": [
       "3543"
      ]
     },
     "execution_count": 4,
     "metadata": {},
     "output_type": "execute_result"
    }
   ],
   "source": [
    "lsat = pd.read_csv('LogicData_deidentified.csv', encoding = 'ISO-8859-1')\n",
    "lsat['Duration (in seconds)'] = lsat['Duration (in seconds)'].astype(int)\n",
    "\n",
    "lsat['score'] = lsat['SC0'].astype(float)\n",
    "lsat['absAssess0'] = lsat['absAssess0'].astype(float)\n",
    "lsat['absAssess1'] = lsat['absAssess1'].astype(float)\n",
    "lsat['relAssess0'] = lsat['relAssess0_1'].astype(float)\n",
    "lsat['relAssess1'] = lsat['relAssess1_1'].astype(float)\n",
    "lsat['diffSelf0'] = lsat['diffSelf0_1'].astype(float)\n",
    "lsat['diffSelf1'] = lsat['diffSelf1_1'].astype(float)\n",
    "lsat['diffOther0'] = lsat['diffOther0_1'].astype(float)\n",
    "lsat['diffOther1'] = lsat['diffOther1_1'].astype(float)\n",
    "lsat['grammarAssess0'] = lsat['logicAssess0_1'].astype(float)\n",
    "lsat['grammarAssess1'] = lsat['logicAssess1_1'].astype(float)\n",
    "\n",
    "\n",
    "len(lsat)"
   ]
  },
  {
   "cell_type": "code",
   "execution_count": 6,
   "metadata": {},
   "outputs": [
    {
     "name": "stderr",
     "output_type": "stream",
     "text": [
      "/Users/racheljansen/anaconda/lib/python3.5/site-packages/matplotlib/__init__.py:800: MatplotlibDeprecationWarning: text.fontsize is deprecated and replaced with font.size; please use the latter.\n",
      "  mplDeprecation)\n"
     ]
    }
   ],
   "source": [
    "params = {'axes.labelsize': 20,'axes.titlesize':20, 'text.fontsize': 20, 'legend.fontsize': 20, 'xtick.labelsize': 10, 'ytick.labelsize': 10}\n",
    "matplotlib.rcParams.update(params)"
   ]
  },
  {
   "cell_type": "code",
   "execution_count": 20,
   "metadata": {},
   "outputs": [
    {
     "data": {
      "image/png": "[encoded data removed]",
      "text/plain": [
       "<matplotlib.figure.Figure at 0x10f8b51d0>"
      ]
     },
     "metadata": {},
     "output_type": "display_data"
    }
   ],
   "source": [
    "fig, ax = plt.subplots()\n",
    "plt.hist(lsat.score, bins=[0,1,2,3,4,5,6,7,8,9,10,11,12,13,14,15,16,17,18,19,20],color='b',align='left')\n",
    "plt.title('Histogram of Scores Achieved: Logical Reasoning',fontsize=20)\n",
    "ax.set_xticks(np.arange(0, 22, step=2))\n",
    "ax.set_yticks([0,50,100,150,200,250,300,350])\n",
    "\n",
    "ax.set_xlabel('Score',fontsize=20)#\n",
    "ax.set_ylabel('\\# Participants',fontsize=20)\n",
    "\n",
    "ax.set_facecolor('white')\n",
    "plt.show()\n",
    "# fig.savefig('figs/score_hist_lsat.eps', dpi=1000)"
   ]
  },
  {
   "cell_type": "code",
   "execution_count": 21,
   "metadata": {},
   "outputs": [
    {
     "data": {
      "text/plain": [
       "Woman                1778\n",
       "Man                  1731\n",
       "Prefer not to say      15\n",
       "Other                  11\n",
       "Name: gender, dtype: int64"
      ]
     },
     "execution_count": 21,
     "metadata": {},
     "output_type": "execute_result"
    }
   ],
   "source": [
    "lsat['gender'].value_counts()"
   ]
  },
  {
   "cell_type": "code",
   "execution_count": 22,
   "metadata": {},
   "outputs": [
    {
     "data": {
      "text/plain": [
       "White                                                                            2553\n",
       "Black or African American                                                         350\n",
       "Asian/Asian American                                                              246\n",
       "Hispanic or Latino                                                                196\n",
       "White,Hispanic or Latino                                                           37\n",
       "Other                                                                              32\n",
       "American Indian or Alaska Native                                                   22\n",
       "Prefer not to say                                                                  19\n",
       "White,Asian/Asian American                                                         14\n",
       "White,Black or African American                                                    13\n",
       "White,American Indian or Alaska Native                                             10\n",
       "Hispanic or Latino,Black or African American                                        6\n",
       "American Indian or Alaska Native,Black or African American                          3\n",
       "Native Hawaiian or Pacific Islander                                                 3\n",
       "Hispanic or Latino,Asian/Asian American                                             2\n",
       "White,Hispanic or Latino,American Indian or Alaska Native                           2\n",
       "American Indian or Alaska Native,Asian/Asian American                               2\n",
       "White,Hispanic or Latino,Asian/Asian American                                       2\n",
       "American Indian or Alaska Native,Prefer not to say                                  1\n",
       "Hispanic or Latino,American Indian or Alaska Native                                 1\n",
       "White,Native Hawaiian or Pacific Islander                                           1\n",
       "Black or African American,Prefer not to say                                         1\n",
       "White,Other                                                                         1\n",
       "White,Black or African American,Other                                               1\n",
       "White,American Indian or Alaska Native,Black or African American                    1\n",
       "Hispanic or Latino,American Indian or Alaska Native,Black or African American       1\n",
       "Asian/Asian American,Prefer not to say                                              1\n",
       "Hispanic or Latino,Native Hawaiian or Pacific Islander                              1\n",
       "Asian/Asian American,Native Hawaiian or Pacific Islander                            1\n",
       "Asian/Asian American,Black or African American                                      1\n",
       "White,Asian/Asian American,Native Hawaiian or Pacific Islander                      1\n",
       "White,Prefer not to say                                                             1\n",
       "Name: race, dtype: int64"
      ]
     },
     "execution_count": 22,
     "metadata": {},
     "output_type": "execute_result"
    }
   ],
   "source": [
    "lsat.race.value_counts()"
   ]
  },
  {
   "cell_type": "code",
   "execution_count": 23,
   "metadata": {},
   "outputs": [
    {
     "data": {
      "text/plain": [
       "18-34    1962\n",
       "35-54    1249\n",
       "55+       332\n",
       "Name: age_groups, dtype: int64"
      ]
     },
     "execution_count": 23,
     "metadata": {},
     "output_type": "execute_result"
    }
   ],
   "source": [
    "lsat['age_groups'] = np.where(lsat.age.astype(float) <= 35, '18-34', \n",
    "                              np.where(lsat.age.astype(float) >=55 , '55+', \n",
    "                                       '35-54'))\n",
    "lsat.age_groups.value_counts()"
   ]
  },
  {
   "cell_type": "code",
   "execution_count": 7,
   "metadata": {},
   "outputs": [
    {
     "name": "stdout",
     "output_type": "stream",
     "text": [
      "min age:  18.0\n",
      "max age:  81.0\n"
     ]
    }
   ],
   "source": [
    "lsat_ages = lsat[(lsat.age.astype(float) < 100) & (lsat.age.astype(float) >= 18)]\n",
    "print('min age: ', lsat_ages.age.astype(float).min())\n",
    "print('max age: ', lsat_ages.age.astype(float).max())"
   ]
  },
  {
   "cell_type": "code",
   "execution_count": 8,
   "metadata": {},
   "outputs": [
    {
     "name": "stdout",
     "output_type": "stream",
     "text": [
      "mean age:  36.58856819468025  years\n"
     ]
    }
   ],
   "source": [
    "print('mean age: ', lsat_ages.age.astype(float).mean(), ' years')"
   ]
  },
  {
   "cell_type": "code",
   "execution_count": 9,
   "metadata": {},
   "outputs": [
    {
     "name": "stdout",
     "output_type": "stream",
     "text": [
      "mean time:  23.47962649355537  minutes\n"
     ]
    }
   ],
   "source": [
    "print('mean time: ', lsat['Duration (in seconds)'].mean()/60, ' minutes')"
   ]
  },
  {
   "cell_type": "code",
   "execution_count": 25,
   "metadata": {},
   "outputs": [
    {
     "name": "stdout",
     "output_type": "stream",
     "text": [
      "mean score:  9.45385266723116 out of 20\n",
      "std score:  3.5902577299943834\n",
      "mean post- percentile estimate 52.437482359582276 std dev. 20.84053827687434\n",
      "mean post- score estimate 10.862263618402483 std dev. 4.052478473063315\n",
      "mean pre- percentile estimate 62.286762630539094 std dev. 19.121344579066587\n",
      "mean pre- score estimate 13.221281399943551 std dev. 3.7607183687310886\n",
      "mean pre- grammar estimate 64.31668077900085 std dev. 18.369925801698326\n",
      "mean post- grammar estimate 54.68924640135479 std dev. 20.651848131586508\n"
     ]
    }
   ],
   "source": [
    "print('mean score: ', lsat['score'].mean(), 'out of 20')\n",
    "print('std score: ', lsat['score'].std())\n",
    "print('mean post- percentile estimate', lsat.relAssess1.mean(), 'std dev.', lsat.relAssess1.std())\n",
    "print('mean post- score estimate', lsat.absAssess1.mean(), 'std dev.', lsat.absAssess1.std())\n",
    "print('mean pre- percentile estimate', lsat.relAssess0.mean(), 'std dev.', lsat.relAssess0.std())\n",
    "print('mean pre- score estimate', lsat.absAssess0.mean(), 'std dev.', lsat.absAssess0.std())\n",
    "print('mean pre- grammar estimate', lsat.grammarAssess0.mean(), 'std dev.', lsat.grammarAssess0.std())\n",
    "print('mean post- grammar estimate', lsat.grammarAssess1.mean(), 'std dev.', lsat.grammarAssess1.std())"
   ]
  },
  {
   "cell_type": "code",
   "execution_count": 26,
   "metadata": {},
   "outputs": [
    {
     "name": "stdout",
     "output_type": "stream",
     "text": [
      "pre- and post- absolute assessments:  (0.634891011275582, 0.0)\n",
      "score and pre- absolute assessments:  (0.08573494562037036, 3.2076079705815765e-07)\n",
      "score and post- absolute assessments:  (0.20472803752852167, 7.769862925134597e-35)\n"
     ]
    }
   ],
   "source": [
    "from scipy.stats.stats import pearsonr\n",
    "print('pre- and post- absolute assessments: ', pearsonr(lsat.absAssess0.astype(int),lsat.absAssess1.astype(int)))\n",
    "print('score and pre- absolute assessments: ', pearsonr(lsat.score.astype(int),lsat.absAssess0.astype(int)))\n",
    "print('score and post- absolute assessments: ', pearsonr(lsat.score.astype(int),lsat.absAssess1.astype(int)))"
   ]
  },
  {
   "cell_type": "code",
   "execution_count": 27,
   "metadata": {},
   "outputs": [
    {
     "name": "stdout",
     "output_type": "stream",
     "text": [
      "mean post- diff self 6.779283093423652 std dev. 2.043388712546865\n",
      "mean post- diff other 6.920124188540784 std dev. 1.7909045521768132\n"
     ]
    }
   ],
   "source": [
    "print('mean post- diff self', lsat.diffSelf1.mean(), \n",
    "      'std dev.', lsat.diffSelf1.std() )\n",
    "print('mean post- diff other', lsat.diffOther1.mean(), \n",
    "      'std dev.', lsat.diffOther1.std() )"
   ]
  },
  {
   "cell_type": "markdown",
   "metadata": {},
   "source": [
    "# Model fitting"
   ]
  },
  {
   "cell_type": "code",
   "execution_count": 10,
   "metadata": {},
   "outputs": [],
   "source": [
    "# bayesian inference model with guessing parameter (g=0.2)\n",
    "preds_guess = pd.read_csv('./../Model/WithGuessing/preds451_basic_all.csv', encoding = \"utf-8\") "
   ]
  },
  {
   "cell_type": "code",
   "execution_count": 11,
   "metadata": {},
   "outputs": [],
   "source": [
    "ssesG = []\n",
    "for i in range(451): # first loop through each simulated set of values\n",
    "    pred = preds_guess[str(i)]\n",
    "#     print(pred)\n",
    "    sse = 0\n",
    "    for s,guess in zip(lsat['score'],lsat['absAssess1']):\n",
    "    \n",
    "        # take the sth prediction which means if they got 3 correct, it would compare to the simulation for 3 correct\n",
    "        error = abs(pred[s] - guess) \n",
    "        sse += error**2\n",
    "    ssesG.append(sse)\n",
    "# ssesG"
   ]
  },
  {
   "cell_type": "code",
   "execution_count": 12,
   "metadata": {},
   "outputs": [
    {
     "name": "stdout",
     "output_type": "stream",
     "text": [
      "min sse:  55801.41372746294\n",
      "index:  207\n"
     ]
    }
   ],
   "source": [
    "print('min sse: ', min(ssesG))\n",
    "print('index: ', ssesG.index(min(ssesG)))"
   ]
  },
  {
   "cell_type": "code",
   "execution_count": 13,
   "metadata": {},
   "outputs": [],
   "source": [
    "epsilons = np.linspace(0,0.5,num=11)\n",
    "muts = np.linspace(-1,1,num=41)\n",
    "\n",
    "preds_ind = []\n",
    "for mut in muts: # loop through mu thetas\n",
    "    for eps in epsilons: # loop through epsilons\n",
    "        preds_ind.append(('eps: ', eps,'mu: ', mut))"
   ]
  },
  {
   "cell_type": "code",
   "execution_count": 14,
   "metadata": {},
   "outputs": [
    {
     "data": {
      "text/plain": [
       "('eps: ', 0.45, 'mu: ', -0.09999999999999998)"
      ]
     },
     "execution_count": 14,
     "metadata": {},
     "output_type": "execute_result"
    }
   ],
   "source": [
    "preds_ind[207]"
   ]
  },
  {
   "cell_type": "code",
   "execution_count": 15,
   "metadata": {},
   "outputs": [],
   "source": [
    "# performance-dependent estimation model with guessing\n",
    "preds_dk_guess = pd.read_csv('./../Model/WithGuessing/preds4961_depend_all.csv', encoding = \"utf-8\") "
   ]
  },
  {
   "cell_type": "code",
   "execution_count": 16,
   "metadata": {},
   "outputs": [],
   "source": [
    "ssesGdk = []\n",
    "for i in range(4961): # first loop through each simulated set of values\n",
    "    pred = preds_dk_guess[str(i)]\n",
    "#     print(pred)\n",
    "    sse = 0\n",
    "    for s,guess in zip(lsat['score'],lsat['absAssess1']):\n",
    "    \n",
    "        # take the sth prediction which means if they got 3 correct, it would compare to the simulation for 3 correct\n",
    "        error = abs(pred[s] - guess) \n",
    "        sse += error**2\n",
    "    ssesGdk.append(sse)\n",
    "# ssesGdk"
   ]
  },
  {
   "cell_type": "code",
   "execution_count": 17,
   "metadata": {},
   "outputs": [
    {
     "name": "stdout",
     "output_type": "stream",
     "text": [
      "min sse:  54912.31757835483\n",
      "index:  2170\n"
     ]
    }
   ],
   "source": [
    "print('min sse: ', min(ssesGdk))\n",
    "print('index: ', ssesGdk.index(min(ssesGdk)))"
   ]
  },
  {
   "cell_type": "code",
   "execution_count": 18,
   "metadata": {},
   "outputs": [],
   "source": [
    "epsilons = np.linspace(0,0.5,num=11)\n",
    "alphas = np.linspace(0,0.5,11) \n",
    "muts = np.linspace(-1,1,num=41)\n",
    "\n",
    "preds_dep = []\n",
    "for mut in muts: # loop through mu thetas \n",
    "    for eps0 in epsilons: # loop through epsilon intercepts\n",
    "        for alph in alphas: # loop through epsilon slopes\n",
    "            preds_dep.append(('mu: ', mut, 'eps: ', eps0, 'alpha: ', alph))"
   ]
  },
  {
   "cell_type": "code",
   "execution_count": 19,
   "metadata": {},
   "outputs": [
    {
     "data": {
      "text/plain": [
       "('mu: ', -0.1499999999999999, 'eps: ', 0.5, 'alpha: ', 0.15000000000000002)"
      ]
     },
     "execution_count": 19,
     "metadata": {},
     "output_type": "execute_result"
    }
   ],
   "source": [
    "preds_dep[2170]"
   ]
  },
  {
   "cell_type": "markdown",
   "metadata": {},
   "source": [
    "### Finding the BICs and doing a likelihood ratio test\n"
   ]
  },
  {
   "cell_type": "markdown",
   "metadata": {},
   "source": [
    "\n",
    "These models are nested, so we can do a likelihood ratio test. The test statistic is $2*(L_1-L_0)$, where $L_1$ and $L_0$ are the log likelihoods of the more complex and simpler models respectively. The statistic is approximately chi-square with df 1, for a cutoff of 3.84."
   ]
  },
  {
   "cell_type": "code",
   "execution_count": 24,
   "metadata": {
    "collapsed": true
   },
   "outputs": [],
   "source": [
    "from scipy.stats import chisqprob\n",
    "def likelihood_ratio(llmin, llmax):\n",
    "    return(2*(llmax-llmin))"
   ]
  },
  {
   "cell_type": "code",
   "execution_count": 20,
   "metadata": {},
   "outputs": [
    {
     "data": {
      "text/plain": [
       "19846.548950693446"
      ]
     },
     "execution_count": 20,
     "metadata": {},
     "output_type": "execute_result"
    }
   ],
   "source": [
    "k0 = 3 # bayesian inference model has 3 params (mu, sigma, eps)\n",
    "k1 = 4 # performance-dependent estimation model has 4 (mu, sigma, eps0, alpha)\n",
    "n = 3543 # total participants\n",
    "s0 = min(ssesG) # sse for ind model\n",
    "s1 = min(ssesGdk) # sse for dep model\n",
    "\n",
    "L0 = -n/2 *(1 + np.log(2*np.pi*(s0/n)))\n",
    "BIC0 = k0 * np.log(n) - 2*L0\n",
    "BIC0"
   ]
  },
  {
   "cell_type": "code",
   "execution_count": 21,
   "metadata": {},
   "outputs": [
    {
     "data": {
      "text/plain": [
       "-9911.015381689425"
      ]
     },
     "execution_count": 21,
     "metadata": {},
     "output_type": "execute_result"
    }
   ],
   "source": [
    "L0"
   ]
  },
  {
   "cell_type": "code",
   "execution_count": 22,
   "metadata": {},
   "outputs": [
    {
     "data": {
      "text/plain": [
       "19797.815723544492"
      ]
     },
     "execution_count": 22,
     "metadata": {},
     "output_type": "execute_result"
    }
   ],
   "source": [
    "L1 = -n/2 *(1 + np.log(2*np.pi*(s1/n)))\n",
    "BIC1 = k1 * np.log(n) - 2*L1\n",
    "BIC1"
   ]
  },
  {
   "cell_type": "code",
   "execution_count": 25,
   "metadata": {},
   "outputs": [
    {
     "name": "stdout",
     "output_type": "stream",
     "text": [
      "p: 0.000000000000045715911428337402\n",
      "56.90595625382048\n"
     ]
    },
    {
     "name": "stderr",
     "output_type": "stream",
     "text": [
      "/Users/racheljansen/anaconda/lib/python3.5/site-packages/ipykernel/__main__.py:3: DeprecationWarning: `chisqprob` is deprecated!\n",
      "stats.chisqprob is deprecated in scipy 0.17.0; use stats.distributions.chi2.sf instead.\n",
      "  app.launch_new_instance()\n"
     ]
    }
   ],
   "source": [
    "LR = likelihood_ratio(L0,L1)\n",
    "\n",
    "p = chisqprob(LR, 1) # L1 has 1 DoF more than L0\n",
    "\n",
    "print('p: %.30f' % p)\n",
    "print(LR)"
   ]
  },
  {
   "cell_type": "markdown",
   "metadata": {},
   "source": [
    "#### Bayes Factor\n",
    "\n",
    "$$\n",
    "\\log P(data | model) \\approx logmax + \\log \\sum_{m=1}^M exp(log(P(data|\\theta^{(M)}) - logmax) - \\log M\n",
    "$$\n",
    "\n",
    "$$\n",
    "\\text{Bayes Factor} = \\frac{P(D|H_1)}{P(D|H_0)} \n",
    "= \\log P(D|H_1) - \\log (P(D|H_0)\n",
    "$$\n",
    "\n",
    "Where $H_1$ refers to the dependent model and $H_0$ to the independent model"
   ]
  },
  {
   "cell_type": "code",
   "execution_count": 33,
   "metadata": {},
   "outputs": [
    {
     "data": {
      "text/plain": [
       "-9916.126781706407"
      ]
     },
     "execution_count": 33,
     "metadata": {},
     "output_type": "execute_result"
    }
   ],
   "source": [
    "# first calculate p_ind for independent model\n",
    "# L0 is logmax\n",
    "\n",
    "logs = 0 # need to take the sum\n",
    "for i in range(len(preds_guess.columns)): #same as (len(sses))\n",
    "    loglik = -n/2 *(1 + np.log(2*np.pi*(ssesG[i]/n)))\n",
    "    logs+= np.exp(loglik - L0)\n",
    "\n",
    "p_ind = L0 + logs - np.log(len(ssesG))\n",
    "p_ind"
   ]
  },
  {
   "cell_type": "code",
   "execution_count": 34,
   "metadata": {},
   "outputs": [
    {
     "data": {
      "text/plain": [
       "-9889.978911441667"
      ]
     },
     "execution_count": 34,
     "metadata": {},
     "output_type": "execute_result"
    }
   ],
   "source": [
    "# then calculate p_dep for dependent model\n",
    "# L1 is logmax\n",
    "\n",
    "logs_dep = 0\n",
    "nas=0 # counting the number\n",
    "for i in range(len(preds_dk_guess.columns)): #same as (len(ssesDEP))\n",
    "    if preds_dk_guess[str(i)][1] != 0:\n",
    "        loglik = -n/2 *(1 + np.log(2*np.pi*(ssesGdk[i]/n)))\n",
    "        logs_dep+= np.exp(loglik - L1)\n",
    "    else:\n",
    "        nas+=1\n",
    "    \n",
    "p_dep = L1 + logs_dep - np.log(len(ssesGdk))\n",
    "p_dep"
   ]
  },
  {
   "cell_type": "code",
   "execution_count": 35,
   "metadata": {},
   "outputs": [
    {
     "data": {
      "text/plain": [
       "2706"
      ]
     },
     "execution_count": 35,
     "metadata": {},
     "output_type": "execute_result"
    }
   ],
   "source": [
    "len(ssesGdk) - nas # checking that we indeed run over 2706 predictions"
   ]
  },
  {
   "cell_type": "code",
   "execution_count": 36,
   "metadata": {},
   "outputs": [
    {
     "data": {
      "text/plain": [
       "26.14787026474005"
      ]
     },
     "execution_count": 36,
     "metadata": {},
     "output_type": "execute_result"
    }
   ],
   "source": [
    "# calculate bayes factor ratio: \n",
    "bf = p_dep - p_ind\n",
    "bf"
   ]
  },
  {
   "cell_type": "code",
   "execution_count": 27,
   "metadata": {},
   "outputs": [
    {
     "data": {
      "image/png": "[encoded data removed]",
      "text/plain": [
       "<matplotlib.figure.Figure at 0x10c708fd0>"
      ]
     },
     "metadata": {},
     "output_type": "display_data"
    }
   ],
   "source": [
    "# plot model predictions and data means\n",
    "\n",
    "k = lsat.absAssess1.groupby(lsat.score).mean()\n",
    "# k=k[:-1]\n",
    "sems = lsat.absAssess1.groupby(lsat.score).sem() # SEMs\n",
    "# sems=sems[:-1]\n",
    "conf = sems*1.96\n",
    "\n",
    "score = [0,1,2,3,4,5,6,7,8,9,10,11,12,13,14,15,16,17,18,19,20]\n",
    "scoreNo20 = [0,1,2,3,4,5,6,7,8,9,10,11,12,13,14,15,16,17,18,19]\n",
    "\n",
    "fig, ax = plt.subplots()\n",
    "\n",
    "# ax.scatter(scoreNoZero, k, label=\"data\",marker='^')\n",
    "#ax.scatter(data.score, data.absAssess1, label=\"data\",marker='^')\n",
    "ax.scatter(scoreNo20, k, label=\"Data\",color='b',marker='^')\n",
    "ax.errorbar(scoreNo20, k, conf,label=\"_nolegend_\",fmt='^',color='b')\n",
    "ax.plot(score, preds_guess['207'],color='r',label=\"_nolegend_\")\n",
    "ax.scatter(score, preds_guess['207'], label=\"Baysian inference\",color='r',marker='s')\n",
    "ax.plot(score, preds_dk_guess['2170'],color='y',label='_nolegend_')\n",
    "ax.scatter(score, preds_dk_guess['2170'], label=\"Performance-dependent estimation\",color='y')\n",
    "\n",
    "\n",
    "ax.set_facecolor('white')\n",
    "plt.title('Best model fits: Logical Reasoning', fontsize=25)\n",
    "plt.axhline(-1, color='black')\n",
    "plt.axvline(-1, color='black')\n",
    "plt.axhline(21, color='black')\n",
    "plt.axvline(21, color='black')\n",
    "ax.set_xlim(-1,21)\n",
    "ax.set_ylim(-1,21)\n",
    "ax.set_xticks(np.arange(0, 22, step=2))\n",
    "ax.set_yticks(np.arange(0, 22, step=2))\n",
    "ax.set_xlabel('True score',fontsize = 20)\n",
    "ax.set_ylabel('Estimated score',fontsize = 20)\n",
    "identity_line = ax.plot([0,5,10,15,20],[0,5,10,15,20], \"r:\",label='Identity Line')\n",
    "legend = ax.legend(loc='lower right', prop={'size':14},frameon=True,facecolor='w',edgecolor='k')\n",
    "\n",
    "fig.set_size_inches(7,7)\n",
    "ax.set_aspect('equal', 'box-forced')\n",
    "\n",
    "plt.gcf().subplots_adjust(bottom=0.15)\n",
    "\n",
    "plt.show()\n",
    "# fig.savefig('figs/Best_logic_guess.png')\n",
    "# fig.savefig('figs/Best_logic_guess.eps', dpi=1000)"
   ]
  },
  {
   "cell_type": "markdown",
   "metadata": {},
   "source": [
    "### Quartile plot"
   ]
  },
  {
   "cell_type": "code",
   "execution_count": 37,
   "metadata": {},
   "outputs": [],
   "source": [
    "lsat['quartile'] = pd.qcut(lsat[\"score\"], 4)"
   ]
  },
  {
   "cell_type": "code",
   "execution_count": 39,
   "metadata": {},
   "outputs": [
    {
     "data": {
      "text/plain": [
       "9.263025543053683"
      ]
     },
     "execution_count": 39,
     "metadata": {},
     "output_type": "execute_result"
    }
   ],
   "source": [
    "preds_guess['207'][0]"
   ]
  },
  {
   "cell_type": "code",
   "execution_count": 41,
   "metadata": {},
   "outputs": [
    {
     "data": {
      "text/plain": [
       "(-0.001, 7.0]    1072\n",
       "(7.0, 10.0]      1002\n",
       "(12.0, 19.0]      782\n",
       "(10.0, 12.0]      687\n",
       "Name: quartile, dtype: int64"
      ]
     },
     "execution_count": 41,
     "metadata": {},
     "output_type": "execute_result"
    }
   ],
   "source": [
    "lsat['quartile'].value_counts()"
   ]
  },
  {
   "cell_type": "code",
   "execution_count": 42,
   "metadata": {},
   "outputs": [
    {
     "data": {
      "text/plain": [
       "quartile\n",
       "(-0.001, 7.0]     5.091418\n",
       "(7.0, 10.0]       9.060878\n",
       "(10.0, 12.0]     11.499272\n",
       "(12.0, 19.0]     14.140665\n",
       "Name: score, dtype: float64"
      ]
     },
     "execution_count": 42,
     "metadata": {},
     "output_type": "execute_result"
    }
   ],
   "source": [
    "scores_quart = lsat.score.groupby(lsat.quartile).mean()\n",
    "scores_quart"
   ]
  },
  {
   "cell_type": "code",
   "execution_count": 43,
   "metadata": {},
   "outputs": [
    {
     "data": {
      "text/plain": [
       "quartile\n",
       "(-0.001, 7.0]    0.051041\n",
       "(7.0, 10.0]      0.025404\n",
       "(10.0, 12.0]     0.019090\n",
       "(12.0, 19.0]     0.045032\n",
       "Name: score, dtype: float64"
      ]
     },
     "execution_count": 43,
     "metadata": {},
     "output_type": "execute_result"
    }
   ],
   "source": [
    "scores_sem = lsat.score.groupby(lsat.quartile).sem()\n",
    "scores_sem"
   ]
  },
  {
   "cell_type": "code",
   "execution_count": 44,
   "metadata": {},
   "outputs": [
    {
     "data": {
      "text/plain": [
       "quartile\n",
       "(-0.001, 7.0]     9.942164\n",
       "(7.0, 10.0]      10.261477\n",
       "(10.0, 12.0]     11.371179\n",
       "(12.0, 19.0]     12.446292\n",
       "Name: absAssess1, dtype: float64"
      ]
     },
     "execution_count": 44,
     "metadata": {},
     "output_type": "execute_result"
    }
   ],
   "source": [
    "SAquarts = lsat.absAssess1.groupby(lsat.quartile).mean()\n",
    "SAquarts"
   ]
  },
  {
   "cell_type": "code",
   "execution_count": 45,
   "metadata": {},
   "outputs": [
    {
     "data": {
      "text/plain": [
       "quartile\n",
       "(-0.001, 7.0]    0.137291\n",
       "(7.0, 10.0]      0.120763\n",
       "(10.0, 12.0]     0.140539\n",
       "(12.0, 19.0]     0.122622\n",
       "Name: absAssess1, dtype: float64"
      ]
     },
     "execution_count": 45,
     "metadata": {},
     "output_type": "execute_result"
    }
   ],
   "source": [
    "SAquarts_sem = lsat.absAssess1.groupby(lsat.quartile).sem()\n",
    "SAquarts_sem"
   ]
  },
  {
   "cell_type": "code",
   "execution_count": 46,
   "metadata": {},
   "outputs": [
    {
     "data": {
      "text/plain": [
       "quartile\n",
       "(-0.001, 7.0]    4.495086\n",
       "(7.0, 10.0]      3.822680\n",
       "(10.0, 12.0]     3.683615\n",
       "(12.0, 19.0]     3.429040\n",
       "Name: absAssess1, dtype: float64"
      ]
     },
     "execution_count": 46,
     "metadata": {},
     "output_type": "execute_result"
    }
   ],
   "source": [
    "lsat.absAssess1.groupby(lsat.quartile).std()\n"
   ]
  },
  {
   "cell_type": "code",
   "execution_count": 47,
   "metadata": {},
   "outputs": [],
   "source": [
    "lsat['ind'] = [preds_guess['207'][x] for x in lsat['score'].astype(int)]"
   ]
  },
  {
   "cell_type": "code",
   "execution_count": 48,
   "metadata": {},
   "outputs": [],
   "source": [
    "lsat['dep'] = [preds_dk_guess['2170'][x] for x in lsat['score'].astype(int)]"
   ]
  },
  {
   "cell_type": "code",
   "execution_count": 49,
   "metadata": {},
   "outputs": [
    {
     "data": {
      "text/plain": [
       "quartile\n",
       "(-0.001, 7.0]    10.110834\n",
       "(7.0, 10.0]      10.788091\n",
       "(10.0, 12.0]     11.283665\n",
       "(12.0, 19.0]     11.748973\n",
       "Name: ind, dtype: float64"
      ]
     },
     "execution_count": 49,
     "metadata": {},
     "output_type": "execute_result"
    }
   ],
   "source": [
    "ind_quarts = lsat.ind.groupby(lsat.quartile).mean()\n",
    "ind_quarts"
   ]
  },
  {
   "cell_type": "code",
   "execution_count": 50,
   "metadata": {},
   "outputs": [
    {
     "data": {
      "text/plain": [
       "quartile\n",
       "(-0.001, 7.0]     9.920818\n",
       "(7.0, 10.0]      10.244004\n",
       "(10.0, 12.0]     10.974043\n",
       "(12.0, 19.0]     12.145742\n",
       "Name: dep, dtype: float64"
      ]
     },
     "execution_count": 50,
     "metadata": {},
     "output_type": "execute_result"
    }
   ],
   "source": [
    "dep_quarts = lsat.dep.groupby(lsat.quartile).mean()\n",
    "dep_quarts"
   ]
  },
  {
   "cell_type": "code",
   "execution_count": 52,
   "metadata": {},
   "outputs": [
    {
     "data": {
      "image/png": "[encoded data removed]",
      "text/plain": [
       "<matplotlib.figure.Figure at 0x1039b7b70>"
      ]
     },
     "metadata": {},
     "output_type": "display_data"
    }
   ],
   "source": [
    "# plot model predictions and data means\n",
    "\n",
    "conf = SAquarts_sem*1.96\n",
    "\n",
    "quarts = [1,2,3,4]\n",
    "\n",
    "fig, ax = plt.subplots()\n",
    "\n",
    "# ax.scatter(scoreNoZero, k, label=\"data\",marker='^')\n",
    "#ax.scatter(data.score, data.absAssess1, label=\"data\",marker='^')\n",
    "ax.scatter(quarts, SAquarts, label=\"Data\",color='b',marker='^')\n",
    "ax.errorbar(quarts, SAquarts, conf,label=\"_nolegend_\",fmt='^',color='b')\n",
    "ax.plot(quarts, ind_quarts,color='r',label=\"_nolegend_\")\n",
    "ax.scatter(quarts, ind_quarts, label=\"Bayesian inference\",color='r',marker='s')\n",
    "ax.plot(quarts, dep_quarts,color='y',label='_nolegend_')\n",
    "ax.scatter(quarts, dep_quarts, label=\"Performance-dependent estimation\",color='y')\n",
    "\n",
    "\n",
    "ax.set_facecolor('white')\n",
    "plt.title('Quartiles: Logical Reasoning', fontsize=25)\n",
    "plt.axhline(-1, color='black')\n",
    "plt.axvline(0, color='black')\n",
    "plt.axhline(21, color='black')\n",
    "plt.axvline(5, color='black')\n",
    "ax.set_xlim(0,5)\n",
    "ax.set_ylim(-1,21)\n",
    "ax.set_xticks(np.arange(1, 5, step=1))\n",
    "ax.set_yticks(np.arange(0, 22, step=2))\n",
    "ax.set_xlabel('Quartile of performance',fontsize = 20)\n",
    "ax.set_ylabel('Estimated score',fontsize = 20)\n",
    "identity_line = ax.plot([1,2,3,4],scores_quart, \"r:\",label='Identity Line')\n",
    "legend = ax.legend(loc='lower right', prop={'size':14},frameon=True,facecolor='w',edgecolor='k')\n",
    "\n",
    "fig.set_size_inches(7,7)\n",
    "# ax.set_aspect('equal', 'box-forced')\n",
    "\n",
    "plt.gcf().subplots_adjust(bottom=0.15)\n",
    "\n",
    "plt.show()\n",
    "# fig.savefig('figs/Best_model_quartiles_logic.png')\n",
    "# fig.savefig('figs/Best_model_quartiles_logic.eps', dpi=1000)"
   ]
  },
  {
   "cell_type": "markdown",
   "metadata": {},
   "source": [
    "## Quadratic fit"
   ]
  },
  {
   "cell_type": "code",
   "execution_count": 21,
   "metadata": {},
   "outputs": [],
   "source": [
    "import os\n",
    "os.environ['R_HOME'] = '/Library/Frameworks/R.framework/Versions/3.2/Resources'\n",
    "\n",
    "import rpy2\n",
    "\n",
    "# the following lines will allow us to convert between Pandas DataFrames and R DataFrames\n",
    "import rpy2.robjects as ro\n",
    "from rpy2.robjects import pandas2ri\n",
    "pandas2ri.activate()\n",
    "from rpy2.robjects.conversion import ri2py\n",
    "\n",
    "# this loads the R magic extension\n",
    "%load_ext rpy2.ipython"
   ]
  },
  {
   "cell_type": "code",
   "execution_count": 22,
   "metadata": {},
   "outputs": [
    {
     "data": {
      "text/html": [
       "<div>\n",
       "<style scoped>\n",
       "    .dataframe tbody tr th:only-of-type {\n",
       "        vertical-align: middle;\n",
       "    }\n",
       "\n",
       "    .dataframe tbody tr th {\n",
       "        vertical-align: top;\n",
       "    }\n",
       "\n",
       "    .dataframe thead th {\n",
       "        text-align: right;\n",
       "    }\n",
       "</style>\n",
       "<table border=\"1\" class=\"dataframe\">\n",
       "  <thead>\n",
       "    <tr style=\"text-align: right;\">\n",
       "      <th></th>\n",
       "      <th>score</th>\n",
       "      <th>score2</th>\n",
       "    </tr>\n",
       "  </thead>\n",
       "  <tbody>\n",
       "    <tr>\n",
       "      <th>6</th>\n",
       "      <td>7.0</td>\n",
       "      <td>49.0</td>\n",
       "    </tr>\n",
       "    <tr>\n",
       "      <th>7</th>\n",
       "      <td>7.0</td>\n",
       "      <td>49.0</td>\n",
       "    </tr>\n",
       "    <tr>\n",
       "      <th>8</th>\n",
       "      <td>3.0</td>\n",
       "      <td>9.0</td>\n",
       "    </tr>\n",
       "    <tr>\n",
       "      <th>10</th>\n",
       "      <td>5.0</td>\n",
       "      <td>25.0</td>\n",
       "    </tr>\n",
       "    <tr>\n",
       "      <th>11</th>\n",
       "      <td>10.0</td>\n",
       "      <td>100.0</td>\n",
       "    </tr>\n",
       "  </tbody>\n",
       "</table>\n",
       "</div>"
      ],
      "text/plain": [
       "    score  score2\n",
       "6     7.0    49.0\n",
       "7     7.0    49.0\n",
       "8     3.0     9.0\n",
       "10    5.0    25.0\n",
       "11   10.0   100.0"
      ]
     },
     "execution_count": 22,
     "metadata": {},
     "output_type": "execute_result"
    }
   ],
   "source": [
    "lsat['score2'] = [score**2 for score in lsat.score]\n",
    "lsat[['score','score2']].head()"
   ]
  },
  {
   "cell_type": "code",
   "execution_count": 23,
   "metadata": {},
   "outputs": [
    {
     "data": {
      "text/plain": [
       "\n",
       "Call:\n",
       "lm(formula = absAssess1 ~ score + score2, data = lsat_all)\n",
       "\n",
       "Residuals:\n",
       "     Min       1Q   Median       3Q      Max \n",
       "-12.8391  -2.5822  -0.0576   2.7446  10.0322 \n",
       "\n",
       "Coefficients:\n",
       "             Estimate Std. Error t value Pr(>|t|)    \n",
       "(Intercept) 11.031110   0.363455  30.351  < 2e-16 ***\n",
       "score       -0.375721   0.082547  -4.552 5.50e-06 ***\n",
       "score2       0.033083   0.004387   7.541 5.88e-14 ***\n",
       "---\n",
       "Signif. codes:  0 ‘***’ 0.001 ‘**’ 0.01 ‘*’ 0.05 ‘.’ 0.1 ‘ ’ 1\n",
       "\n",
       "Residual standard error: 3.936 on 3540 degrees of freedom\n",
       "Multiple R-squared:  0.05706,\tAdjusted R-squared:  0.05653 \n",
       "F-statistic: 107.1 on 2 and 3540 DF,  p-value: < 2.2e-16\n",
       "\n"
      ]
     },
     "metadata": {},
     "output_type": "display_data"
    }
   ],
   "source": [
    "%%R -i lsat\n",
    "\n",
    "model0 <- lm(absAssess1 ~ score + score2, data=lsat)\n",
    "summary(model0)\n",
    "# anova(model0)"
   ]
  },
  {
   "cell_type": "code",
   "execution_count": 24,
   "metadata": {},
   "outputs": [
    {
     "data": {
      "text/plain": [
       "[1] 55730.72\n",
       "\n",
       "Call:\n",
       "lm(formula = absAssess1 ~ score, data = lsat_all)\n",
       "\n",
       "Residuals:\n",
       "     Min       1Q   Median       3Q      Max \n",
       "-12.1439  -2.6817  -0.0641   2.8561  11.0913 \n",
       "\n",
       "Coefficients:\n",
       "            Estimate Std. Error t value Pr(>|t|)    \n",
       "(Intercept)  8.67762    0.18775   46.22   <2e-16 ***\n",
       "score        0.23109    0.01857   12.45   <2e-16 ***\n",
       "---\n",
       "Signif. codes:  0 ‘***’ 0.001 ‘**’ 0.01 ‘*’ 0.05 ‘.’ 0.1 ‘ ’ 1\n",
       "\n",
       "Residual standard error: 3.967 on 3541 degrees of freedom\n",
       "Multiple R-squared:  0.04191,\tAdjusted R-squared:  0.04164 \n",
       "F-statistic: 154.9 on 1 and 3541 DF,  p-value: < 2.2e-16\n",
       "\n"
      ]
     },
     "metadata": {},
     "output_type": "display_data"
    }
   ],
   "source": [
    "%%R -i lsat\n",
    "\n",
    "model1 <- lm(absAssess1 ~ score, data=lsat)\n",
    "print(sum(model1$residuals^2))\n",
    "summary(model1)\n",
    "# anova(model1)"
   ]
  },
  {
   "cell_type": "code",
   "execution_count": 25,
   "metadata": {},
   "outputs": [
    {
     "data": {
      "text/plain": [
       "[1] 55730.72\n",
       "[1] 54849.56\n"
      ]
     },
     "metadata": {},
     "output_type": "display_data"
    }
   ],
   "source": [
    "%%R -i lsat\n",
    "print(sum(model1$residuals^2))\n",
    "print(sum(model0$residuals^2))"
   ]
  },
  {
   "cell_type": "code",
   "execution_count": 26,
   "metadata": {},
   "outputs": [],
   "source": [
    "df1 = 3541\n",
    "df2 = 3540\n",
    "sse1 = 55730.72\n",
    "sse2 = 54849.56"
   ]
  },
  {
   "cell_type": "code",
   "execution_count": 27,
   "metadata": {},
   "outputs": [
    {
     "data": {
      "text/plain": [
       "56.87021737275581"
      ]
     },
     "execution_count": 27,
     "metadata": {},
     "output_type": "execute_result"
    }
   ],
   "source": [
    "f = ((sse1-sse2)/(df1-df2))/(sse2/df2)\n",
    "f"
   ]
  },
  {
   "cell_type": "code",
   "execution_count": 29,
   "metadata": {},
   "outputs": [
    {
     "data": {
      "text/plain": [
       "Analysis of Variance Table\n",
       "\n",
       "Model 1: absAssess1 ~ score\n",
       "Model 2: absAssess1 ~ score + score2\n",
       "  Res.Df   RSS Df Sum of Sq      F    Pr(>F)    \n",
       "1   3541 55731                                  \n",
       "2   3540 54850  1    881.17 56.871 5.881e-14 ***\n",
       "---\n",
       "Signif. codes:  0 ‘***’ 0.001 ‘**’ 0.01 ‘*’ 0.05 ‘.’ 0.1 ‘ ’ 1\n"
      ]
     },
     "metadata": {},
     "output_type": "display_data"
    }
   ],
   "source": [
    "%%R -i lsat\n",
    "anova(model1,model0)"
   ]
  },
  {
   "cell_type": "code",
   "execution_count": null,
   "metadata": {},
   "outputs": [],
   "source": []
  }
 ],
 "metadata": {
  "kernelspec": {
   "display_name": "Python [Root]",
   "language": "python",
   "name": "Python [Root]"
  },
  "language_info": {
   "codemirror_mode": {
    "name": "ipython",
    "version": 3
   },
   "file_extension": ".py",
   "mimetype": "text/x-python",
   "name": "python",
   "nbconvert_exporter": "python",
   "pygments_lexer": "ipython3",
   "version": "3.5.3"
  }
 },
 "nbformat": 4,
 "nbformat_minor": 2
}
