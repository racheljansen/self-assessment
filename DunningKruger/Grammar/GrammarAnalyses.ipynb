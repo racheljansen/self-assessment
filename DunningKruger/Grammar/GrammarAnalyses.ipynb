{
 "cells": [
  {
   "cell_type": "code",
   "execution_count": 1,
   "metadata": {},
   "outputs": [],
   "source": [
    "import numpy as np\n",
    "import pandas as pd\n",
    "\n",
    "import matplotlib\n",
    "%matplotlib inline\n",
    "import matplotlib.pyplot as plt\n",
    "import seaborn\n",
    "import datetime\n",
    "from scipy import stats"
   ]
  },
  {
   "cell_type": "code",
   "execution_count": 2,
   "metadata": {},
   "outputs": [],
   "source": [
    "import matplotlib as mpl\n",
    "mpl.rc('font',family='Times New Roman')\n",
    "\n",
    "tbfont = {'fontname': 'Times New Roman Bold'}\n",
    "tfont = {'fontname':'Times New Roman'}\n",
    "\n",
    "mpl.rc('text', usetex=True)"
   ]
  },
  {
   "cell_type": "code",
   "execution_count": 4,
   "metadata": {},
   "outputs": [
    {
     "data": {
      "text/plain": [
       "3515"
      ]
     },
     "execution_count": 4,
     "metadata": {},
     "output_type": "execute_result"
    }
   ],
   "source": [
    "gram = pd.read_csv('GrammarData_deidentified.csv', encoding = 'utf-8')\n",
    "gram['Duration (in seconds)'] = gram['Duration (in seconds)'].astype(int)\n",
    "\n",
    "gram['score'] = gram['SC0'].astype(float)\n",
    "gram['absAssess0'] = gram['absAssess0'].astype(float)\n",
    "gram['absAssess1'] = gram['absAssess1'].astype(float)\n",
    "gram['relAssess0'] = gram['relAssess0_1'].astype(float)\n",
    "gram['relAssess1'] = gram['relAssess1_1'].astype(float)\n",
    "gram['diffSelf0'] = gram['diffSelf0_1'].astype(float)\n",
    "gram['diffSelf1'] = gram['diffSelf1_1'].astype(float)\n",
    "gram['diffOther0'] = gram['diffOther0_1'].astype(float)\n",
    "gram['diffOther1'] = gram['diffOther1_1'].astype(float)\n",
    "gram['grammarAssess0'] = gram['grammarAssess0_1'].astype(float)\n",
    "gram['grammarAssess1'] = gram['grammarAssess1_1'].astype(float)\n",
    "\n",
    "len(gram)"
   ]
  },
  {
   "cell_type": "code",
   "execution_count": 6,
   "metadata": {},
   "outputs": [
    {
     "name": "stderr",
     "output_type": "stream",
     "text": [
      "/Users/racheljansen/anaconda/envs/p36/lib/python3.6/site-packages/matplotlib/__init__.py:913: UserWarning: text.fontsize is deprecated and replaced with font.size; please use the latter.\n",
      "  warnings.warn(self.msg_depr % (key, alt_key))\n"
     ]
    }
   ],
   "source": [
    "params = {'axes.labelsize': 20,'axes.titlesize':20, 'text.fontsize': 20, 'legend.fontsize': 20, 'xtick.labelsize': 10, 'ytick.labelsize': 10}\n",
    "matplotlib.rcParams.update(params)"
   ]
  },
  {
   "cell_type": "code",
   "execution_count": 8,
   "metadata": {},
   "outputs": [
    {
     "data": {
      "image/png": "[encoded data removed]",
      "text/plain": [
       "<matplotlib.figure.Figure at 0x10c00a198>"
      ]
     },
     "metadata": {},
     "output_type": "display_data"
    }
   ],
   "source": [
    "fig, ax = plt.subplots()\n",
    "plt.hist(gram.score, bins=[0,1,2,3,4,5,6,7,8,9,10,11,12,13,14,15,16,17,18,19,20],color='b',align='left')\n",
    "plt.title('Histogram of Scores Achieved: Grammar',fontsize=20)\n",
    "ax.set_xticks(np.arange(0, 22, step=2))\n",
    "ax.set_yticks([0,50,100,150,200,250,300,350,400])\n",
    "\n",
    "ax.set_xlabel('Score',fontsize=20)#\n",
    "ax.set_ylabel('\\# Participants',fontsize=20)\n",
    "\n",
    "ax.set_facecolor('white')\n",
    "plt.show()\n",
    "# fig.savefig('figs/score_hist_grammar.eps', dpi=1000)"
   ]
  },
  {
   "cell_type": "code",
   "execution_count": 9,
   "metadata": {},
   "outputs": [
    {
     "data": {
      "text/plain": [
       "Woman                1780\n",
       "Man                  1698\n",
       "Prefer not to say      13\n",
       "Other                  12\n",
       "Name: gender, dtype: int64"
      ]
     },
     "execution_count": 9,
     "metadata": {},
     "output_type": "execute_result"
    }
   ],
   "source": [
    "gram['gender'].value_counts()"
   ]
  },
  {
   "cell_type": "code",
   "execution_count": 11,
   "metadata": {},
   "outputs": [
    {
     "data": {
      "text/plain": [
       "White                                                                                     2560\n",
       "Black or African American                                                                  304\n",
       "Asian/Asian American                                                                       246\n",
       "Hispanic or Latino                                                                         215\n",
       "White,Hispanic or Latino                                                                    35\n",
       "Other                                                                                       30\n",
       "Prefer not to say                                                                           20\n",
       "American Indian or Alaska Native                                                            19\n",
       "White,Black or African American                                                             16\n",
       "White,Asian/Asian American                                                                  12\n",
       "White,American Indian or Alaska Native                                                      10\n",
       "Hispanic or Latino,Black or African American                                                 7\n",
       "Native Hawaiian or Pacific Islander                                                          6\n",
       "American Indian or Alaska Native,Black or African American                                   3\n",
       "White,Prefer not to say                                                                      2\n",
       "White,American Indian or Alaska Native,Black or African American                             2\n",
       "Asian/Asian American,Black or African American                                               1\n",
       "Asian/Asian American,Native Hawaiian or Pacific Islander                                     1\n",
       "White,Hispanic or Latino,Black or African American                                           1\n",
       "White,Hispanic or Latino,Asian/Asian American                                                1\n",
       "Hispanic or Latino,American Indian or Alaska Native                                          1\n",
       "White,Asian/Asian American,Other                                                             1\n",
       "Native Hawaiian or Pacific Islander,Other                                                    1\n",
       "White,Hispanic or Latino,Native Hawaiian or Pacific Islander,Black or African American       1\n",
       "White,Asian/Asian American,Native Hawaiian or Pacific Islander                               1\n",
       "Asian/Asian American,Prefer not to say                                                       1\n",
       "White,Native Hawaiian or Pacific Islander                                                    1\n",
       "White,Other                                                                                  1\n",
       "Hispanic or Latino,Asian/Asian American                                                      1\n",
       "White,American Indian or Alaska Native,Asian/Asian American,Black or African American        1\n",
       "Name: race, dtype: int64"
      ]
     },
     "execution_count": 11,
     "metadata": {},
     "output_type": "execute_result"
    }
   ],
   "source": [
    "gram.race.value_counts()"
   ]
  },
  {
   "cell_type": "code",
   "execution_count": 13,
   "metadata": {},
   "outputs": [
    {
     "data": {
      "text/plain": [
       "18-34    1982\n",
       "35-54    1175\n",
       "55+       358\n",
       "Name: age_groups, dtype: int64"
      ]
     },
     "execution_count": 13,
     "metadata": {},
     "output_type": "execute_result"
    }
   ],
   "source": [
    "gram['age_groups'] = np.where(gram.age.astype(float) <= 35, '18-34', \n",
    "                              np.where(gram.age.astype(float) >=55 , '55+', \n",
    "                                       '35-54'))\n",
    "gram.age_groups.value_counts()"
   ]
  },
  {
   "cell_type": "code",
   "execution_count": 26,
   "metadata": {},
   "outputs": [
    {
     "name": "stdout",
     "output_type": "stream",
     "text": [
      "min age:  18.0\n",
      "max age:  88.0\n"
     ]
    }
   ],
   "source": [
    "gram_ages = gram[(gram.age.astype(float) < 100) & (gram.age.astype(float) >= 18)]\n",
    "print('min age: ', gram_ages.age.astype(float).min())\n",
    "print('max age: ', gram_ages.age.astype(float).max())"
   ]
  },
  {
   "cell_type": "code",
   "execution_count": 32,
   "metadata": {},
   "outputs": [
    {
     "name": "stdout",
     "output_type": "stream",
     "text": [
      "mean age:  36.53931941664284  years\n"
     ]
    }
   ],
   "source": [
    "print('mean age: ', gram_ages.age.astype(float).mean(), ' years')"
   ]
  },
  {
   "cell_type": "code",
   "execution_count": 31,
   "metadata": {},
   "outputs": [
    {
     "name": "stdout",
     "output_type": "stream",
     "text": [
      "mean time:  19.61240872451399  minutes\n"
     ]
    }
   ],
   "source": [
    "print('mean time: ', gram['Duration (in seconds)'].mean()/60, ' minutes')"
   ]
  },
  {
   "cell_type": "code",
   "execution_count": 22,
   "metadata": {},
   "outputs": [
    {
     "name": "stdout",
     "output_type": "stream",
     "text": [
      "mean score:  10.17126600284495 out of 20\n",
      "std score:  3.4021360705337487\n",
      "mean post- percentile estimate 58.379516358463725 std dev. 20.56975669493571\n",
      "mean post- score estimate 12.494736842105263 std dev. 3.9110286043866185\n",
      "mean pre- percentile estimate 68.66600284495021 std dev. 18.6467161949458\n",
      "mean pre- score estimate 14.949075391180655 std dev. 3.5606735697951533\n",
      "mean pre- grammar estimate 70.27766714082503 std dev. 18.48646228107146\n",
      "mean post- grammar estimate 60.25234708392603 std dev. 20.42934969617716\n"
     ]
    }
   ],
   "source": [
    "print('mean score: ', gram['score'].mean(), 'out of 20')\n",
    "print('std score: ', gram['score'].std())\n",
    "print('mean post- percentile estimate', gram.relAssess1.mean(), 'std dev.', gram.relAssess1.std())\n",
    "print('mean post- score estimate', gram.absAssess1.mean(), 'std dev.', gram.absAssess1.std())\n",
    "print('mean pre- percentile estimate', gram.relAssess0.mean(), 'std dev.', gram.relAssess0.std())\n",
    "print('mean pre- score estimate', gram.absAssess0.mean(), 'std dev.', gram.absAssess0.std())\n",
    "print('mean pre- grammar estimate', gram.grammarAssess0.mean(), 'std dev.', gram.grammarAssess0.std())\n",
    "print('mean post- grammar estimate', gram.grammarAssess1.mean(), 'std dev.', gram.grammarAssess1.std())"
   ]
  },
  {
   "cell_type": "code",
   "execution_count": 23,
   "metadata": {},
   "outputs": [
    {
     "name": "stdout",
     "output_type": "stream",
     "text": [
      "pre- and post- absolute assessments:  (0.65714037286650739, 0.0)\n",
      "score and pre- absolute assessments:  (0.23260672333420354, 2.126690291981347e-44)\n",
      "score and post- absolute assessments:  (0.28353478336781857, 5.5372969715933977e-66)\n"
     ]
    }
   ],
   "source": [
    "from scipy.stats.stats import pearsonr\n",
    "print('pre- and post- absolute assessments: ', pearsonr(gram.absAssess0.astype(int),gram.absAssess1.astype(int)))\n",
    "print('score and pre- absolute assessments: ', pearsonr(gram.score.astype(int),gram.absAssess0.astype(int)))\n",
    "print('score and post- absolute assessments: ', pearsonr(gram.score.astype(int),gram.absAssess1.astype(int)))"
   ]
  },
  {
   "cell_type": "code",
   "execution_count": 24,
   "metadata": {},
   "outputs": [
    {
     "name": "stdout",
     "output_type": "stream",
     "text": [
      "mean post- diff self 5.565007112375533 std dev. 2.2584752081942194\n",
      "mean post- diff other 6.1610241820768135 std dev. 1.840762467989424\n"
     ]
    }
   ],
   "source": [
    "print('mean post- diff self', gram.diffSelf1.mean(), \n",
    "      'std dev.', gram.diffSelf1.std() )\n",
    "print('mean post- diff other', gram.diffOther1.mean(), \n",
    "      'std dev.', gram.diffOther1.std() )"
   ]
  },
  {
   "cell_type": "markdown",
   "metadata": {},
   "source": [
    "# Model fitting"
   ]
  },
  {
   "cell_type": "code",
   "execution_count": 35,
   "metadata": {},
   "outputs": [],
   "source": [
    "# bayesian inference model with guessing parameter (g=0.2)\n",
    "preds_guess = pd.read_csv('./../Model/WithGuessing/preds451_basic_all.csv', encoding = \"utf-8\") "
   ]
  },
  {
   "cell_type": "code",
   "execution_count": 36,
   "metadata": {},
   "outputs": [],
   "source": [
    "ssesG = []\n",
    "for i in range(451): # first loop through each simulated set of values\n",
    "    pred = preds_guess[str(i)]\n",
    "#     print(pred)\n",
    "    sse = 0\n",
    "    for s,guess in zip(gram['score'],gram['absAssess1']):\n",
    "    \n",
    "        # take the sth prediction which means if they got 3 correct, it would compare to the simulation for 3 correct\n",
    "        error = abs(pred[s] - guess) \n",
    "        sse += error**2\n",
    "    ssesG.append(sse)\n",
    "# ssesG"
   ]
  },
  {
   "cell_type": "code",
   "execution_count": 37,
   "metadata": {},
   "outputs": [
    {
     "name": "stdout",
     "output_type": "stream",
     "text": [
      "min sse:  49591.5758412\n",
      "index:  239\n"
     ]
    }
   ],
   "source": [
    "print('min sse: ', min(ssesG))\n",
    "print('index: ', ssesG.index(min(ssesG)))"
   ]
  },
  {
   "cell_type": "code",
   "execution_count": 42,
   "metadata": {},
   "outputs": [],
   "source": [
    "epsilons = np.linspace(0,0.5,num=11)\n",
    "muts = np.linspace(-1,1,num=41)\n",
    "\n",
    "preds_ind = []\n",
    "for mut in muts: # loop through mu thetas\n",
    "    for eps in epsilons: # loop through epsilons\n",
    "        preds_ind.append(('eps: ', eps,'mu: ', mut))"
   ]
  },
  {
   "cell_type": "code",
   "execution_count": 43,
   "metadata": {},
   "outputs": [
    {
     "data": {
      "text/plain": [
       "('eps: ', 0.40000000000000002, 'mu: ', 0.050000000000000044)"
      ]
     },
     "execution_count": 43,
     "metadata": {},
     "output_type": "execute_result"
    }
   ],
   "source": [
    "preds_ind[239]"
   ]
  },
  {
   "cell_type": "code",
   "execution_count": 38,
   "metadata": {},
   "outputs": [],
   "source": [
    "# performance-dependent estimation model with guessing\n",
    "preds_dk_guess = pd.read_csv('./../Model/WithGuessing/preds4961_depend_all.csv', encoding = \"utf-8\") "
   ]
  },
  {
   "cell_type": "code",
   "execution_count": 39,
   "metadata": {},
   "outputs": [],
   "source": [
    "ssesGdk = []\n",
    "for i in range(4961): # first loop through each simulated set of values\n",
    "    pred = preds_dk_guess[str(i)]\n",
    "#     print(pred)\n",
    "    sse = 0\n",
    "    for s,guess in zip(gram['score'],gram['absAssess1']):\n",
    "    \n",
    "        # take the sth prediction which means if they got 3 correct, it would compare to the simulation for 3 correct\n",
    "        error = abs(pred[s] - guess) \n",
    "        sse += error**2\n",
    "    ssesGdk.append(sse)\n",
    "# ssesGdk"
   ]
  },
  {
   "cell_type": "code",
   "execution_count": 40,
   "metadata": {},
   "outputs": [
    {
     "name": "stdout",
     "output_type": "stream",
     "text": [
      "min sse:  49073.0424492\n",
      "index:  2642\n"
     ]
    }
   ],
   "source": [
    "print('min sse: ', min(ssesGdk))\n",
    "print('index: ', ssesGdk.index(min(ssesGdk)))"
   ]
  },
  {
   "cell_type": "code",
   "execution_count": 44,
   "metadata": {},
   "outputs": [],
   "source": [
    "epsilons = np.linspace(0,0.5,num=11)\n",
    "alphas = np.linspace(0,0.5,11) \n",
    "muts = np.linspace(-1,1,num=41)\n",
    "\n",
    "preds_dep = []\n",
    "for mut in muts: # loop through mu thetas \n",
    "    for eps0 in epsilons: # loop through epsilon intercepts\n",
    "        for alph in alphas: # loop through epsilon slopes\n",
    "            preds_dep.append(('mu: ', mut, 'eps: ', eps0, 'alpha: ', alph))"
   ]
  },
  {
   "cell_type": "code",
   "execution_count": 45,
   "metadata": {},
   "outputs": [
    {
     "data": {
      "text/plain": [
       "('mu: ',\n",
       " 0.050000000000000044,\n",
       " 'eps: ',\n",
       " 0.45000000000000001,\n",
       " 'alpha: ',\n",
       " 0.10000000000000001)"
      ]
     },
     "execution_count": 45,
     "metadata": {},
     "output_type": "execute_result"
    }
   ],
   "source": [
    "preds_dep[2642]"
   ]
  },
  {
   "cell_type": "markdown",
   "metadata": {},
   "source": [
    "### Finding the BICs and doing a likelihood ratio test\n"
   ]
  },
  {
   "cell_type": "markdown",
   "metadata": {},
   "source": [
    "\n",
    "These models are nested, so we can do a likelihood ratio test. The test statistic is $2*(L_1-L_0)$, where $L_1$ and $L_0$ are the log likelihoods of the more complex and simpler models respectively. The statistic is approximately chi-square with df 1, for a cutoff of 3.84."
   ]
  },
  {
   "cell_type": "code",
   "execution_count": 46,
   "metadata": {
    "collapsed": true
   },
   "outputs": [],
   "source": [
    "from scipy.stats import chisqprob\n",
    "def likelihood_ratio(llmin, llmax):\n",
    "    return(2*(llmax-llmin))"
   ]
  },
  {
   "cell_type": "code",
   "execution_count": 47,
   "metadata": {},
   "outputs": [
    {
     "data": {
      "text/plain": [
       "19303.069077087748"
      ]
     },
     "execution_count": 47,
     "metadata": {},
     "output_type": "execute_result"
    }
   ],
   "source": [
    "k0 = 3 # bayesian inference model has 3 params (mu, sigma, eps)\n",
    "k1 = 4 # performance-dependent estimation model has 4 (mu, sigma, eps0, alpha)\n",
    "n = 3515 # total participants\n",
    "s0 = min(ssesG) # sse for ind model\n",
    "s1 = min(ssesGdk) # sse for dep model\n",
    "\n",
    "L0 = -n/2 *(1 + np.log(2*np.pi*(s0/n)))\n",
    "BIC0 = k0 * np.log(n) - 2*L0\n",
    "BIC0"
   ]
  },
  {
   "cell_type": "code",
   "execution_count": 48,
   "metadata": {},
   "outputs": [
    {
     "data": {
      "text/plain": [
       "-9639.2873463375072"
      ]
     },
     "execution_count": 48,
     "metadata": {},
     "output_type": "execute_result"
    }
   ],
   "source": [
    "L0"
   ]
  },
  {
   "cell_type": "code",
   "execution_count": 49,
   "metadata": {},
   "outputs": [
    {
     "data": {
      "text/plain": [
       "19274.287260520225"
      ]
     },
     "execution_count": 49,
     "metadata": {},
     "output_type": "execute_result"
    }
   ],
   "source": [
    "L1 = -n/2 *(1 + np.log(2*np.pi*(s1/n)))\n",
    "BIC1 = k1 * np.log(n) - 2*L1\n",
    "BIC1"
   ]
  },
  {
   "cell_type": "code",
   "execution_count": 50,
   "metadata": {},
   "outputs": [
    {
     "name": "stdout",
     "output_type": "stream",
     "text": [
      "p: 0.000000001214085150559433412091\n",
      "36.9466113718\n"
     ]
    },
    {
     "name": "stderr",
     "output_type": "stream",
     "text": [
      "/Users/racheljansen/anaconda/envs/p36/lib/python3.6/site-packages/ipykernel_launcher.py:3: DeprecationWarning: `chisqprob` is deprecated!\n",
      "stats.chisqprob is deprecated in scipy 0.17.0; use stats.distributions.chi2.sf instead.\n",
      "  This is separate from the ipykernel package so we can avoid doing imports until\n"
     ]
    }
   ],
   "source": [
    "LR = likelihood_ratio(L0,L1)\n",
    "\n",
    "p = chisqprob(LR, 1) # L1 has 1 DoF more than L0\n",
    "\n",
    "print('p: %.30f' % p)\n",
    "print(LR)"
   ]
  },
  {
   "cell_type": "markdown",
   "metadata": {},
   "source": [
    "#### Bayes Factor\n",
    "\n",
    "$$\n",
    "\\log P(data | model) \\approx logmax + \\log \\sum_{m=1}^M exp(log(P(data|\\theta^{(M)}) - logmax) - \\log M\n",
    "$$\n",
    "\n",
    "$$\n",
    "\\text{Bayes Factor} = \\frac{P(D|H_1)}{P(D|H_0)} \n",
    "= \\log P(D|H_1) - \\log (P(D|H_0)\n",
    "$$\n",
    "\n",
    "Where $H_1$ refers to the dependent model and $H_0$ to the independent model"
   ]
  },
  {
   "cell_type": "code",
   "execution_count": 51,
   "metadata": {},
   "outputs": [
    {
     "data": {
      "text/plain": [
       "-9644.3988023836919"
      ]
     },
     "execution_count": 51,
     "metadata": {},
     "output_type": "execute_result"
    }
   ],
   "source": [
    "# first calculate p_ind for independent model\n",
    "# L0 is logmax\n",
    "\n",
    "logs = 0 # need to take the sum\n",
    "for i in range(len(preds_guess.columns)): #same as (len(sses))\n",
    "    loglik = -n/2 *(1 + np.log(2*np.pi*(ssesG[i]/n)))\n",
    "    logs+= np.exp(loglik - L0)\n",
    "\n",
    "p_ind = L0 + logs - np.log(len(ssesG))\n",
    "p_ind"
   ]
  },
  {
   "cell_type": "code",
   "execution_count": 52,
   "metadata": {},
   "outputs": [
    {
     "data": {
      "text/plain": [
       "-9628.259767977368"
      ]
     },
     "execution_count": 52,
     "metadata": {},
     "output_type": "execute_result"
    }
   ],
   "source": [
    "# then calculate p_dep for dependent model\n",
    "# L1 is logmax\n",
    "\n",
    "logs_dep = 0\n",
    "nas=0 # counting the number\n",
    "for i in range(len(preds_dk_guess.columns)): #same as (len(ssesDEP))\n",
    "    if preds_dk_guess[str(i)][1] != 0:\n",
    "        loglik = -n/2 *(1 + np.log(2*np.pi*(ssesGdk[i]/n)))\n",
    "        logs_dep+= np.exp(loglik - L1)\n",
    "    else:\n",
    "        nas+=1\n",
    "    \n",
    "p_dep = L1 + logs_dep - np.log(len(ssesGdk))\n",
    "p_dep"
   ]
  },
  {
   "cell_type": "code",
   "execution_count": 53,
   "metadata": {},
   "outputs": [
    {
     "data": {
      "text/plain": [
       "2706"
      ]
     },
     "execution_count": 53,
     "metadata": {},
     "output_type": "execute_result"
    }
   ],
   "source": [
    "len(ssesGdk) - nas # checking that we indeed run over 2706 predictions"
   ]
  },
  {
   "cell_type": "code",
   "execution_count": 54,
   "metadata": {},
   "outputs": [
    {
     "data": {
      "text/plain": [
       "16.139034406323844"
      ]
     },
     "execution_count": 54,
     "metadata": {},
     "output_type": "execute_result"
    }
   ],
   "source": [
    "# calculate bayes factor ratio: \n",
    "bf = p_dep - p_ind\n",
    "bf"
   ]
  },
  {
   "cell_type": "markdown",
   "metadata": {},
   "source": [
    "## Plotting the best fit models"
   ]
  },
  {
   "cell_type": "code",
   "execution_count": 44,
   "metadata": {},
   "outputs": [
    {
     "data": {
      "image/png": "[encoded data removed]",
      "text/plain": [
       "<matplotlib.figure.Figure at 0x113d944a8>"
      ]
     },
     "metadata": {},
     "output_type": "display_data"
    }
   ],
   "source": [
    "# plot model predictions and data means - GUESS MODEL\n",
    "\n",
    "k = gram.absAssess1.groupby(gram_all.score).mean()\n",
    "# k=k[:-1]\n",
    "sems = gram.absAssess1.groupby(gram_all.score).sem() # SEMs\n",
    "# sems=sems[:-1]\n",
    "conf = sems*1.96\n",
    "\n",
    "score = [0,1,2,3,4,5,6,7,8,9,10,11,12,13,14,15,16,17,18,19,20]\n",
    "# scoreNoZero = [0,1,2,3,4,5,6,7,8,9,10,11,12,13,14,15,16,17,18]\n",
    "\n",
    "fig, ax = plt.subplots()\n",
    "\n",
    "# ax.scatter(scoreNoZero, k, label=\"data\",marker='^')\n",
    "#ax.scatter(data.score, data.absAssess1, label=\"data\",marker='^')\n",
    "ax.scatter(score, k, label=\"Data\",color='b',marker='^')\n",
    "ax.errorbar(score, k, conf,label=\"_nolegend_\",fmt='^',color='b')\n",
    "ax.plot(score, preds_guess['239'],color='r',label=\"_nolegend_\")\n",
    "ax.scatter(score, preds_guess['239'], label=\"Bayesian inference\",color='r',marker='s')\n",
    "ax.plot(score, preds_dk_guess['2642'],color='y',label='_nolegend_')\n",
    "ax.scatter(score, preds_dk_guess['2642'], label=\"Performance-dependent estimation\",color='y')\n",
    "\n",
    "\n",
    "ax.set_facecolor('white')\n",
    "plt.title('Best model fits: Grammar', fontsize=25)\n",
    "plt.axhline(-1, color='black')\n",
    "plt.axvline(-1, color='black')\n",
    "plt.axhline(21, color='black')\n",
    "plt.axvline(21, color='black')\n",
    "ax.set_xlim(-1,21)\n",
    "ax.set_ylim(-1,21)\n",
    "ax.set_xticks(np.arange(0, 22, step=2))\n",
    "ax.set_yticks(np.arange(0, 22, step=2))\n",
    "\n",
    "ax.set_xlabel('True score',fontsize = 20)\n",
    "ax.set_ylabel('Estimated score',fontsize = 20)\n",
    "identity_line = ax.plot([0,5,10,15,20],[0,5,10,15,20], \"r:\",label='Identity Line')\n",
    "legend = ax.legend(loc='lower right', prop={'size':14},frameon=True,facecolor='w',edgecolor='k')\n",
    "\n",
    "fig.set_size_inches(7,7)\n",
    "ax.set_aspect('equal', 'box-forced')\n",
    "\n",
    "plt.gcf().subplots_adjust(bottom=0.15)\n",
    "\n",
    "plt.show()\n",
    "# fig.savefig('figs/Best_grammar_guess.png')\n",
    "# fig.savefig('figs/Best_grammar_guess.eps', dpi=1000)"
   ]
  },
  {
   "cell_type": "markdown",
   "metadata": {},
   "source": [
    "### Quartile plot"
   ]
  },
  {
   "cell_type": "code",
   "execution_count": 45,
   "metadata": {},
   "outputs": [],
   "source": [
    "gram_all['quartile'] = pd.qcut(gram_all[\"score\"], 4)"
   ]
  },
  {
   "cell_type": "code",
   "execution_count": 46,
   "metadata": {},
   "outputs": [
    {
     "data": {
      "text/plain": [
       "(-0.001, 8.0]    1091\n",
       "(10.0, 13.0]     1078\n",
       "(8.0, 10.0]       748\n",
       "(13.0, 20.0]      598\n",
       "Name: quartile, dtype: int64"
      ]
     },
     "execution_count": 46,
     "metadata": {},
     "output_type": "execute_result"
    }
   ],
   "source": [
    "gram_all['quartile'].value_counts()"
   ]
  },
  {
   "cell_type": "code",
   "execution_count": 47,
   "metadata": {},
   "outputs": [
    {
     "data": {
      "text/plain": [
       "quartile\n",
       "(-0.001, 8.0]     6.182401\n",
       "(8.0, 10.0]       9.524064\n",
       "(10.0, 13.0]     11.918367\n",
       "(13.0, 20.0]     15.108696\n",
       "Name: score, dtype: float64"
      ]
     },
     "execution_count": 47,
     "metadata": {},
     "output_type": "execute_result"
    }
   ],
   "source": [
    "scores_quart = gram.score.groupby(gram.quartile).mean()\n",
    "scores_quart"
   ]
  },
  {
   "cell_type": "code",
   "execution_count": 48,
   "metadata": {},
   "outputs": [
    {
     "data": {
      "text/plain": [
       "quartile\n",
       "(-0.001, 8.0]    11.321723\n",
       "(8.0, 10.0]      11.989305\n",
       "(10.0, 13.0]     12.920223\n",
       "(13.0, 20.0]     14.500000\n",
       "Name: absAssess1, dtype: float64"
      ]
     },
     "execution_count": 48,
     "metadata": {},
     "output_type": "execute_result"
    }
   ],
   "source": [
    "SAquarts = gram.absAssess1.groupby(gram.quartile).mean()\n",
    "SAquarts"
   ]
  },
  {
   "cell_type": "code",
   "execution_count": 49,
   "metadata": {},
   "outputs": [
    {
     "data": {
      "text/plain": [
       "quartile\n",
       "(-0.001, 8.0]    0.130577\n",
       "(8.0, 10.0]      0.138975\n",
       "(10.0, 13.0]     0.103949\n",
       "(13.0, 20.0]     0.127960\n",
       "Name: absAssess1, dtype: float64"
      ]
     },
     "execution_count": 49,
     "metadata": {},
     "output_type": "execute_result"
    }
   ],
   "source": [
    "SAquarts_sem = gram.absAssess1.groupby(gram.quartile).sem()\n",
    "SAquarts_sem"
   ]
  },
  {
   "cell_type": "code",
   "execution_count": 50,
   "metadata": {},
   "outputs": [
    {
     "data": {
      "text/plain": [
       "quartile\n",
       "(-0.001, 8.0]    4.312992\n",
       "(8.0, 10.0]      3.800922\n",
       "(10.0, 13.0]     3.412950\n",
       "(13.0, 20.0]     3.129130\n",
       "Name: absAssess1, dtype: float64"
      ]
     },
     "execution_count": 50,
     "metadata": {},
     "output_type": "execute_result"
    }
   ],
   "source": [
    "gram.absAssess1.groupby(gram.quartile).std()"
   ]
  },
  {
   "cell_type": "code",
   "execution_count": 51,
   "metadata": {},
   "outputs": [],
   "source": [
    "gram['ind'] = [preds_guess['239'][x] for x in gram['score'].astype(int)]"
   ]
  },
  {
   "cell_type": "code",
   "execution_count": 52,
   "metadata": {},
   "outputs": [],
   "source": [
    "gram['dep'] = [preds_dk_guess['2642'][x] for x in gram['score'].astype(int)]"
   ]
  },
  {
   "cell_type": "code",
   "execution_count": 53,
   "metadata": {},
   "outputs": [
    {
     "data": {
      "text/plain": [
       "quartile\n",
       "(-0.001, 8.0]    10.934071\n",
       "(8.0, 10.0]      12.190058\n",
       "(10.0, 13.0]     13.045430\n",
       "(13.0, 20.0]     14.100698\n",
       "Name: ind, dtype: float64"
      ]
     },
     "execution_count": 53,
     "metadata": {},
     "output_type": "execute_result"
    }
   ],
   "source": [
    "ind_quarts = gram.ind.groupby(gram.quartile).mean()\n",
    "ind_quarts"
   ]
  },
  {
   "cell_type": "code",
   "execution_count": 54,
   "metadata": {},
   "outputs": [
    {
     "data": {
      "text/plain": [
       "quartile\n",
       "(-0.001, 8.0]    11.312894\n",
       "(8.0, 10.0]      12.187277\n",
       "(10.0, 13.0]     13.058042\n",
       "(13.0, 20.0]     14.425899\n",
       "Name: dep, dtype: float64"
      ]
     },
     "execution_count": 54,
     "metadata": {},
     "output_type": "execute_result"
    }
   ],
   "source": [
    "dep_quarts = gram.dep.groupby(gram.quartile).mean()\n",
    "dep_quarts"
   ]
  },
  {
   "cell_type": "code",
   "execution_count": 56,
   "metadata": {},
   "outputs": [
    {
     "data": {
      "image/png": "[encoded data removed]",
      "text/plain": [
       "<matplotlib.figure.Figure at 0x1143b0278>"
      ]
     },
     "metadata": {},
     "output_type": "display_data"
    }
   ],
   "source": [
    "# plot model predictions and data means\n",
    "\n",
    "conf = SAquarts_sem*1.96\n",
    "\n",
    "quarts = [1,2,3,4]\n",
    "\n",
    "fig, ax = plt.subplots()\n",
    "\n",
    "# ax.scatter(scoreNoZero, k, label=\"data\",marker='^')\n",
    "#ax.scatter(data.score, data.absAssess1, label=\"data\",marker='^')\n",
    "ax.scatter(quarts, SAquarts, label=\"Data\",color='b',marker='^')\n",
    "ax.errorbar(quarts, SAquarts, conf,label=\"_nolegend_\",fmt='^',color='b')\n",
    "ax.plot(quarts, ind_quarts,color='r',label=\"_nolegend_\")\n",
    "ax.scatter(quarts, ind_quarts, label=\"Bayesian inference\",color='r',marker='s')\n",
    "ax.plot(quarts, dep_quarts,color='y',label='_nolegend_')\n",
    "ax.scatter(quarts, dep_quarts, label=\"Performance-dependent estimation\",color='y')\n",
    "\n",
    "\n",
    "ax.set_facecolor('white')\n",
    "plt.title('Quartiles: Grammar', fontsize=25)\n",
    "plt.axhline(-1, color='black')\n",
    "plt.axvline(0, color='black')\n",
    "plt.axhline(21, color='black')\n",
    "plt.axvline(5, color='black')\n",
    "ax.set_xlim(0,5)\n",
    "ax.set_ylim(-1,21)\n",
    "ax.set_xticks(np.arange(1, 5, step=1))\n",
    "ax.set_yticks(np.arange(0, 22, step=2))\n",
    "ax.set_xlabel('Quartile of performance',fontsize = 20)\n",
    "ax.set_ylabel('Estimated score',fontsize = 20)\n",
    "identity_line = ax.plot([1,2,3,4],scores_quart, \"r:\",label='Identity Line')\n",
    "legend = ax.legend(loc='lower right', prop={'size':14},frameon=True,facecolor='w',edgecolor='k')\n",
    "\n",
    "fig.set_size_inches(7,7)\n",
    "# ax.set_aspect('equal', 'box-forced')\n",
    "\n",
    "plt.gcf().subplots_adjust(bottom=0.15)\n",
    "\n",
    "plt.show()\n",
    "# fig.savefig('figs/Best_model_quartiles_grammar.png')\n",
    "# fig.savefig('figs/Best_model_quartiles_grammar.eps', dpi=1000)"
   ]
  },
  {
   "cell_type": "markdown",
   "metadata": {},
   "source": [
    "### Quadratic trend analysis"
   ]
  },
  {
   "cell_type": "code",
   "execution_count": 57,
   "metadata": {},
   "outputs": [],
   "source": [
    "import operator\n",
    "from sklearn.linear_model import LinearRegression\n",
    "from sklearn.metrics import mean_squared_error, r2_score\n",
    "from sklearn.preprocessing import PolynomialFeatures"
   ]
  },
  {
   "cell_type": "code",
   "execution_count": 58,
   "metadata": {},
   "outputs": [],
   "source": [
    "x = gram.score\n",
    "y = gram.absAssess1\n",
    "\n",
    "# transforming the data to include another axis\n",
    "x = x[:, np.newaxis]\n",
    "y = y[:, np.newaxis]"
   ]
  },
  {
   "cell_type": "code",
   "execution_count": 38,
   "metadata": {},
   "outputs": [
    {
     "name": "stdout",
     "output_type": "stream",
     "text": [
      "3.731838944940277\n",
      "0.08927476001825863\n"
     ]
    },
    {
     "data": {
      "image/png": "[encoded data removed]",
      "text/plain": [
       "<matplotlib.figure.Figure at 0x1162ad4a8>"
      ]
     },
     "metadata": {},
     "output_type": "display_data"
    }
   ],
   "source": [
    "polynomial_features= PolynomialFeatures(degree=2)\n",
    "x_poly = polynomial_features.fit_transform(x)\n",
    "\n",
    "model = LinearRegression()\n",
    "model.fit(x_poly, y)\n",
    "y_poly_pred = model.predict(x_poly)\n",
    "\n",
    "rmse = np.sqrt(mean_squared_error(y,y_poly_pred))\n",
    "r2 = r2_score(y,y_poly_pred)\n",
    "print(rmse)\n",
    "print(r2)\n",
    "\n",
    "plt.scatter(x, y, s=10)\n",
    "# sort the values of x before line plot\n",
    "sort_axis = operator.itemgetter(0)\n",
    "sorted_zip = sorted(zip(x,y_poly_pred), key=sort_axis)\n",
    "x, y_poly_pred = zip(*sorted_zip)\n",
    "plt.plot(x, y_poly_pred, color='m')\n",
    "plt.show()"
   ]
  },
  {
   "cell_type": "code",
   "execution_count": 43,
   "metadata": {},
   "outputs": [
    {
     "data": {
      "text/plain": [
       "array([[ 0.        , -0.16498971,  0.02461279]])"
      ]
     },
     "execution_count": 43,
     "metadata": {},
     "output_type": "execute_result"
    }
   ],
   "source": [
    "model.coef_"
   ]
  },
  {
   "cell_type": "code",
   "execution_count": 44,
   "metadata": {},
   "outputs": [
    {
     "data": {
      "text/plain": [
       "array([11.34178274])"
      ]
     },
     "execution_count": 44,
     "metadata": {},
     "output_type": "execute_result"
    }
   ],
   "source": [
    "model.intercept_"
   ]
  },
  {
   "cell_type": "code",
   "execution_count": 45,
   "metadata": {},
   "outputs": [
    {
     "data": {
      "text/plain": [
       "<bound method BaseEstimator.get_params of LinearRegression(copy_X=True, fit_intercept=True, n_jobs=1, normalize=False)>"
      ]
     },
     "execution_count": 45,
     "metadata": {},
     "output_type": "execute_result"
    }
   ],
   "source": [
    "model.get_params"
   ]
  },
  {
   "cell_type": "code",
   "execution_count": 52,
   "metadata": {},
   "outputs": [],
   "source": [
    "import os\n",
    "os.environ['R_HOME'] = '/Library/Frameworks/R.framework/Versions/3.2/Resources'\n",
    "\n",
    "import rpy2\n",
    "\n",
    "# the following lines will allow us to convert between Pandas DataFrames and R DataFrames\n",
    "import rpy2.robjects as ro\n",
    "from rpy2.robjects import pandas2ri\n",
    "pandas2ri.activate()\n",
    "from rpy2.robjects.conversion import ri2py\n",
    "\n",
    "# this loads the R magic extension\n",
    "%load_ext rpy2.ipython"
   ]
  },
  {
   "cell_type": "code",
   "execution_count": 53,
   "metadata": {},
   "outputs": [
    {
     "data": {
      "text/html": [
       "<div>\n",
       "<style scoped>\n",
       "    .dataframe tbody tr th:only-of-type {\n",
       "        vertical-align: middle;\n",
       "    }\n",
       "\n",
       "    .dataframe tbody tr th {\n",
       "        vertical-align: top;\n",
       "    }\n",
       "\n",
       "    .dataframe thead th {\n",
       "        text-align: right;\n",
       "    }\n",
       "</style>\n",
       "<table border=\"1\" class=\"dataframe\">\n",
       "  <thead>\n",
       "    <tr style=\"text-align: right;\">\n",
       "      <th></th>\n",
       "      <th>score</th>\n",
       "      <th>score2</th>\n",
       "    </tr>\n",
       "  </thead>\n",
       "  <tbody>\n",
       "    <tr>\n",
       "      <th>7</th>\n",
       "      <td>4.0</td>\n",
       "      <td>16.0</td>\n",
       "    </tr>\n",
       "    <tr>\n",
       "      <th>8</th>\n",
       "      <td>10.0</td>\n",
       "      <td>100.0</td>\n",
       "    </tr>\n",
       "    <tr>\n",
       "      <th>9</th>\n",
       "      <td>6.0</td>\n",
       "      <td>36.0</td>\n",
       "    </tr>\n",
       "    <tr>\n",
       "      <th>10</th>\n",
       "      <td>11.0</td>\n",
       "      <td>121.0</td>\n",
       "    </tr>\n",
       "    <tr>\n",
       "      <th>11</th>\n",
       "      <td>10.0</td>\n",
       "      <td>100.0</td>\n",
       "    </tr>\n",
       "  </tbody>\n",
       "</table>\n",
       "</div>"
      ],
      "text/plain": [
       "    score  score2\n",
       "7     4.0    16.0\n",
       "8    10.0   100.0\n",
       "9     6.0    36.0\n",
       "10   11.0   121.0\n",
       "11   10.0   100.0"
      ]
     },
     "execution_count": 53,
     "metadata": {},
     "output_type": "execute_result"
    }
   ],
   "source": [
    "gram['score2'] = [score**2 for score in gram.score]\n",
    "gram[['score','score2']].head()"
   ]
  },
  {
   "cell_type": "code",
   "execution_count": 54,
   "metadata": {},
   "outputs": [
    {
     "data": {
      "text/plain": [
       "\n",
       "Call:\n",
       "lm(formula = absAssess1 ~ score + score2, data = gram_all)\n",
       "\n",
       "Residuals:\n",
       "     Min       1Q   Median       3Q      Max \n",
       "-13.3565  -2.3565   0.1495   2.6253   8.9317 \n",
       "\n",
       "Coefficients:\n",
       "             Estimate Std. Error t value Pr(>|t|)    \n",
       "(Intercept) 11.341783   0.419425  27.041  < 2e-16 ***\n",
       "score       -0.164990   0.085900  -1.921   0.0548 .  \n",
       "score2       0.024613   0.004205   5.853 5.28e-09 ***\n",
       "---\n",
       "Signif. codes:  0 ‘***’ 0.001 ‘**’ 0.01 ‘*’ 0.05 ‘.’ 0.1 ‘ ’ 1\n",
       "\n",
       "Residual standard error: 3.733 on 3512 degrees of freedom\n",
       "Multiple R-squared:  0.08927,\tAdjusted R-squared:  0.08876 \n",
       "F-statistic: 172.1 on 2 and 3512 DF,  p-value: < 2.2e-16\n",
       "\n"
      ]
     },
     "metadata": {},
     "output_type": "display_data"
    }
   ],
   "source": [
    "%%R -i gram\n",
    "\n",
    "model0 <- lm(absAssess1 ~ score + score2, data=gram)\n",
    "summary(model0)\n",
    "# anova(model0)"
   ]
  },
  {
   "cell_type": "code",
   "execution_count": 55,
   "metadata": {},
   "outputs": [
    {
     "data": {
      "text/plain": [
       "[1] 49429.53\n",
       "\n",
       "Call:\n",
       "lm(formula = absAssess1 ~ score, data = gram_all)\n",
       "\n",
       "Residuals:\n",
       "     Min       1Q   Median       3Q      Max \n",
       "-13.4168  -2.4389   0.2573   2.5611  10.4946 \n",
       "\n",
       "Coefficients:\n",
       "            Estimate Std. Error t value Pr(>|t|)    \n",
       "(Intercept)   9.1794     0.1995   46.02   <2e-16 ***\n",
       "score         0.3260     0.0186   17.52   <2e-16 ***\n",
       "---\n",
       "Signif. codes:  0 ‘***’ 0.001 ‘**’ 0.01 ‘*’ 0.05 ‘.’ 0.1 ‘ ’ 1\n",
       "\n",
       "Residual standard error: 3.751 on 3513 degrees of freedom\n",
       "Multiple R-squared:  0.08039,\tAdjusted R-squared:  0.08013 \n",
       "F-statistic: 307.1 on 1 and 3513 DF,  p-value: < 2.2e-16\n",
       "\n"
      ]
     },
     "metadata": {},
     "output_type": "display_data"
    }
   ],
   "source": [
    "%%R -i gram\n",
    "\n",
    "model1 <- lm(absAssess1 ~ score, data=gram)\n",
    "print(sum(model1$residuals^2))\n",
    "summary(model1)\n",
    "# anova(model1)"
   ]
  },
  {
   "cell_type": "code",
   "execution_count": 32,
   "metadata": {},
   "outputs": [
    {
     "data": {
      "text/plain": [
       "[1] 49429.53\n",
       "[1] 48952.08\n"
      ]
     },
     "metadata": {},
     "output_type": "display_data"
    }
   ],
   "source": [
    "%%R -i gram_all\n",
    "print(sum(model1$residuals^2))\n",
    "print(sum(model0$residuals^2))"
   ]
  },
  {
   "cell_type": "code",
   "execution_count": 48,
   "metadata": {},
   "outputs": [],
   "source": [
    "df1 = 3513\n",
    "df2 = 3512\n",
    "sse1 = 49429.53\n",
    "sse2 = 48952.08"
   ]
  },
  {
   "cell_type": "code",
   "execution_count": 37,
   "metadata": {},
   "outputs": [
    {
     "data": {
      "text/plain": [
       "34.253996970097894"
      ]
     },
     "execution_count": 37,
     "metadata": {},
     "output_type": "execute_result"
    }
   ],
   "source": [
    "f = ((sse1-sse2)/(df1-df2))/(sse2/df2)\n",
    "f"
   ]
  },
  {
   "cell_type": "code",
   "execution_count": 80,
   "metadata": {},
   "outputs": [
    {
     "data": {
      "text/plain": [
       "Analysis of Variance Table\n",
       "\n",
       "Model 1: absAssess1 ~ score\n",
       "Model 2: absAssess1 ~ score + score2\n",
       "  Res.Df   RSS Df Sum of Sq      F    Pr(>F)    \n",
       "1   3513 49430                                  \n",
       "2   3512 48952  1    477.46 34.254 5.279e-09 ***\n",
       "---\n",
       "Signif. codes:  0 ‘***’ 0.001 ‘**’ 0.01 ‘*’ 0.05 ‘.’ 0.1 ‘ ’ 1\n"
      ]
     },
     "metadata": {},
     "output_type": "display_data"
    }
   ],
   "source": [
    "%%R -i gram_all\n",
    "anova(model1,model0)"
   ]
  },
  {
   "cell_type": "code",
   "execution_count": null,
   "metadata": {},
   "outputs": [],
   "source": []
  }
 ],
 "metadata": {
  "kernelspec": {
   "display_name": "p36",
   "language": "python",
   "name": "p36"
  },
  "language_info": {
   "codemirror_mode": {
    "name": "ipython",
    "version": 3
   },
   "file_extension": ".py",
   "mimetype": "text/x-python",
   "name": "python",
   "nbconvert_exporter": "python",
   "pygments_lexer": "ipython3",
   "version": "3.6.1"
  }
 },
 "nbformat": 4,
 "nbformat_minor": 2
}
